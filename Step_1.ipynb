{
 "cells": [
  {
   "cell_type": "markdown",
   "metadata": {},
   "source": [
    "## Step 1\n",
    "* Collect EU leaderboards.<br>\n",
    "* Collect Parent realm IDs (since only parent realms return leaderboards in API for whatever reason).<br>\n",
    "* Collect all Protection Paladins<br>\n",
    "* Save results in CSV for Step 2; Gear Collection<br>"
   ]
  },
  {
   "cell_type": "code",
   "execution_count": 1,
   "metadata": {},
   "outputs": [],
   "source": [
    "import pandas as pd\n",
    "import requests"
   ]
  },
  {
   "cell_type": "code",
   "execution_count": 2,
   "metadata": {},
   "outputs": [],
   "source": [
    "# Create a new Access Token\n",
    "def create_access_token(client_id, client_secret, region = 'eu'):\n",
    "    data = { 'grant_type': 'client_credentials' }\n",
    "    response = requests.post('https://%s.battle.net/oauth/token' % region, data=data, auth=(client_id, client_secret))\n",
    "    return response.json()\n",
    "response = create_access_token('59cc7fe2d633479a8eabf7bfd61ec8aa', 'fq48ndwEJ6P7dLMxG7gTThGlYwIPVjmD')\n",
    "token = response['access_token']"
   ]
  },
  {
   "cell_type": "code",
   "execution_count": null,
   "metadata": {},
   "outputs": [],
   "source": [
    "def eu_realms():\n",
    "    search = \"https://eu.api.blizzard.com/data/wow/realm/index?namespace=dynamic-eu&locale=en_GB&access_token=\"+token\n",
    "    response = requests.get(search)\n",
    "    return response.json()\n",
    "\n",
    "def eu_connected_realms(realmID):\n",
    "    search = \"https://eu.api.blizzard.com/data/wow/connected-realm/\"+str(realmID)+\"?namespace=dynamic-eu&locale=en_GB&access_token=\"+token\n",
    "    response = requests.get(search)\n",
    "    return response.json()"
   ]
  },
  {
   "cell_type": "code",
   "execution_count": null,
   "metadata": {},
   "outputs": [],
   "source": [
    "# Get Parent Realms\n",
    "connected_realms = pd.DataFrame(columns=['id', 'has_queue', 'realms', '_links.self.href', 'status.type','status.name', 'population.type', 'population.name','mythic_leaderboards.href', 'auctions.href'])\n",
    "eu_realms = pd.json_normalize(eu_realms(), record_path = ['realms'])\n",
    "ids= list(eu_realms['id'])\n",
    "for realmID in ids:\n",
    "    data = eu_connected_realms(realmID)\n",
    "    if data.get('code') != 404:\n",
    "        temp = pd.json_normalize(data)\n",
    "        connected_realms = connected_realms.append(temp)\n",
    "connected_realms['parent_realm'] = connected_realms['realms'].apply(pd.Series)[0].apply(pd.Series)['name']\n",
    "connected_realms.to_csv('parent_realms.csv',index=False)"
   ]
  },
  {
   "cell_type": "code",
   "execution_count": null,
   "metadata": {},
   "outputs": [],
   "source": [
    "def get_leaderboard(realmID,dungeonID,periodID):\n",
    "    search = \"https://eu.api.blizzard.com/data/wow/connected-realm/\"+str(realmID)+\"/mythic-leaderboard/\"+str(dungeonID)+\"/period/\"+str(periodID)+\"?namespace=dynamic-eu&locale=en_GB&access_token=\"+token\n",
    "    response = requests.get(search)\n",
    "    if response.status_code == 200:\n",
    "        return response.json()\n",
    "    else:\n",
    "        return"
   ]
  },
  {
   "cell_type": "code",
   "execution_count": null,
   "metadata": {},
   "outputs": [],
   "source": [
    "# Read in Parent Realms\n",
    "connected_realms = pd.read_csv('parent_realms.csv')\n",
    "\n",
    "dungeons = [375,376,377,378,379,380,381,382]\n",
    "realms = list(connected_realms['id'].unique())\n",
    "period = 784 # Find out what this means, weekly reset? \n",
    "tank_spec = 66 # paladin tanks\n",
    "i = 1\n",
    "for realm in realms:\n",
    "    full_leaderboard = pd.DataFrame(columns=['profile.id','profile.name','profile.realm.slug','specialization.id','faction.type'])\n",
    "    print(str(i) + ' / ' + str(len(realms)))\n",
    "    i+=1\n",
    "    for dungeon in dungeons:\n",
    "        temp = pd.json_normalize(get_leaderboard(realm,dungeon,period), record_path = ['leading_groups'])\n",
    "        for group in temp['members']:\n",
    "            paladins = pd.json_normalize(group)\n",
    "            paladins = paladins[paladins['specialization.id']==tank_spec][['profile.id','profile.name','profile.realm.slug','specialization.id','faction.type']]\n",
    "            full_leaderboard = full_leaderboard.append(paladins)\n",
    "    full_leaderboard = full_leaderboard.drop_duplicates()\n",
    "    full_leaderboard.to_csv('realms\\\\'+str(realm)+'.csv', index=False)"
   ]
  },
  {
   "cell_type": "code",
   "execution_count": null,
   "metadata": {},
   "outputs": [],
   "source": []
  },
  {
   "cell_type": "code",
   "execution_count": 12,
   "metadata": {},
   "outputs": [],
   "source": [
    "# PvP Leaderboards\n",
    "\n",
    "def twoVtwo():\n",
    "    # 2v2\n",
    "    search1 = \"https://eu.api.blizzard.com/data/wow/pvp-season/26/pvp-leaderboard/2v2?namespace=dynamic-eu&locale=en_GB&access_token=\"+token\n",
    "    response = requests.get(search)\n",
    "    return response.json()\n",
    "\n",
    "def threeVthree():\n",
    "    # 3v3\n",
    "    search2 = \"https://eu.api.blizzard.com/data/wow/pvp-season/27/pvp-leaderboard/3v3?namespace=dynamic-eu&locale=en_GB&access_token=\"+token\n",
    "    response = requests.get(search)\n",
    "    return response.json()\n",
    "\n",
    "def rbg():\n",
    "    # rgb\n",
    "    search = \"https://eu.api.blizzard.com/data/wow/pvp-season/27/pvp-leaderboard/rgb?namespace=dynamic-eu&locale=en_GB&access_token=\"+token\n",
    "    response = requests.get(search)\n",
    "    return response.json()\n"
   ]
  },
  {
   "cell_type": "code",
   "execution_count": 14,
   "metadata": {},
   "outputs": [
    {
     "data": {
      "text/html": [
       "<div>\n",
       "<style scoped>\n",
       "    .dataframe tbody tr th:only-of-type {\n",
       "        vertical-align: middle;\n",
       "    }\n",
       "\n",
       "    .dataframe tbody tr th {\n",
       "        vertical-align: top;\n",
       "    }\n",
       "\n",
       "    .dataframe thead th {\n",
       "        text-align: right;\n",
       "    }\n",
       "</style>\n",
       "<table border=\"1\" class=\"dataframe\">\n",
       "  <thead>\n",
       "    <tr style=\"text-align: right;\">\n",
       "      <th></th>\n",
       "      <th>code</th>\n",
       "      <th>type</th>\n",
       "      <th>detail</th>\n",
       "    </tr>\n",
       "  </thead>\n",
       "  <tbody>\n",
       "    <tr>\n",
       "      <th>0</th>\n",
       "      <td>404</td>\n",
       "      <td>BLZWEBAPI00000404</td>\n",
       "      <td>Not Found</td>\n",
       "    </tr>\n",
       "  </tbody>\n",
       "</table>\n",
       "</div>"
      ],
      "text/plain": [
       "   code               type     detail\n",
       "0   404  BLZWEBAPI00000404  Not Found"
      ]
     },
     "execution_count": 14,
     "metadata": {},
     "output_type": "execute_result"
    }
   ],
   "source": [
    "data = pd.json_normalize( twoVtwo() )\n",
    "data"
   ]
  },
  {
   "cell_type": "code",
   "execution_count": null,
   "metadata": {},
   "outputs": [],
   "source": []
  }
 ],
 "metadata": {
  "kernelspec": {
   "display_name": "Python 3",
   "language": "python",
   "name": "python3"
  },
  "language_info": {
   "codemirror_mode": {
    "name": "ipython",
    "version": 3
   },
   "file_extension": ".py",
   "mimetype": "text/x-python",
   "name": "python",
   "nbconvert_exporter": "python",
   "pygments_lexer": "ipython3",
   "version": "3.8.3"
  }
 },
 "nbformat": 4,
 "nbformat_minor": 4
}
